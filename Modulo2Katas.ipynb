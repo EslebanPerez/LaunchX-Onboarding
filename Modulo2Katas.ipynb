{
 "cells": [
  {
   "cell_type": "markdown",
   "metadata": {},
   "source": [
    "### Crear un paquete\n",
    "\n",
    "Creando un entorno virtual\n",
    "\n",
    "Ejecutar en su terminal:\n",
    "    python -m venv env\n",
    "    \n",
    "![](images/creacion_EntornoVirtual.PNG)"
   ]
  },
  {
   "cell_type": "markdown",
   "metadata": {},
   "source": [
    "Carpeta creada\n",
    "\n",
    "![](images/carpeta_EntornoVirtual.PNG)"
   ]
  },
  {
   "cell_type": "markdown",
   "metadata": {},
   "source": [
    "Comando para activar el entorno virtual: ``env\\Scripts\\activate``\n",
    "\n",
    "![](images/activacion_EntornoVirtual.PNG)\n"
   ]
  },
  {
   "cell_type": "markdown",
   "metadata": {},
   "source": [
    "Ahora ves en tu terminal ``(env)``. Eso significa que has activado tu entorno virtual y se ha aislado del resto de tu máquina."
   ]
  },
  {
   "cell_type": "markdown",
   "metadata": {},
   "source": [
    "### Instalacion de una biblioteca\n",
    "\n",
    "El comando ``pip freeze`` muestra la bibliotecas instaladas en el entorno virtual.\n",
    "\n",
    "comando ``pip install`` para instalar una biblioteca:\n",
    "\n",
    "```\n",
    "pip install python-dateutil\n",
    "```\n",
    "\n",
    "![](images/instalacionBiblioteca_EntornoVirtual.PNG)\n"
   ]
  },
  {
   "cell_type": "markdown",
   "metadata": {},
   "source": [
    "Al ejecutar nuevamente ``pip freeze`` ha cambiado la lista de bibliotecas:\n",
    "  ```\n",
    "  pip freeze\n",
    "  ```\n",
    "![](images/freeze_EntornoVirtual.PNG)"
   ]
  },
  {
   "cell_type": "markdown",
   "metadata": {},
   "source": [
    "### Desactivar un entorno virtual\n",
    "\n",
    "Para salir del entorno virtul para cambiar de proyecto, se debe desactivar.\n",
    "\n",
    "Ejecuta el comando ``deactivate``:\n",
    "![](images/deactivate_EntornoVirtual.PNG)"
   ]
  }
 ],
 "metadata": {
  "interpreter": {
   "hash": "f7395892a0604dd3e501693a9618eb187659d755c2cb938b636ea2b9b3ac1c91"
  },
  "kernelspec": {
   "display_name": "Python 3.10.2 64-bit",
   "language": "python",
   "name": "python3"
  },
  "language_info": {
   "name": "python",
   "version": "3.10.2"
  },
  "orig_nbformat": 4
 },
 "nbformat": 4,
 "nbformat_minor": 2
}
